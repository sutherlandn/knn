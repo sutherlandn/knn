{
  "cells": [
    {
      "cell_type": "markdown",
      "id": "f7ef20f0-722f-4240-8a79-437d4a3b8832",
      "metadata": {
        "id": "f7ef20f0-722f-4240-8a79-437d4a3b8832"
      },
      "source": [
        "## Assignment 3: $k$ Nearest Neighbor\n",
        "\n",
        "**Do two questions.**\n",
        "\n",
        "`! git clone https://github.com/ds4e/knn`"
      ]
    },
    {
      "cell_type": "code",
      "source": [
        "! git clone https://github.com/ds4e/knn"
      ],
      "metadata": {
        "id": "DC4K6bTSjAYS",
        "outputId": "7b7b5283-4448-40aa-ad78-c6f50235534a",
        "colab": {
          "base_uri": "https://localhost:8080/"
        }
      },
      "id": "DC4K6bTSjAYS",
      "execution_count": 1,
      "outputs": [
        {
          "output_type": "stream",
          "name": "stdout",
          "text": [
            "Cloning into 'knn'...\n",
            "remote: Enumerating objects: 63, done.\u001b[K\n",
            "remote: Counting objects: 100% (63/63), done.\u001b[K\n",
            "remote: Compressing objects: 100% (57/57), done.\u001b[K\n",
            "remote: Total 63 (delta 22), reused 5 (delta 2), pack-reused 0 (from 0)\u001b[K\n",
            "Receiving objects: 100% (63/63), 23.08 MiB | 9.00 MiB/s, done.\n",
            "Resolving deltas: 100% (22/22), done.\n"
          ]
        }
      ]
    },
    {
      "cell_type": "markdown",
      "id": "5d9212c0",
      "metadata": {
        "id": "5d9212c0"
      },
      "source": [
        "**Q0.**\n",
        "1. What is the difference between regression and classification?\n",
        "**Regression is used to predict a continuous quanity given observed variables, while classificiation uses variables to make an assessment of where something falls, categorically.**\n",
        "2. What is a confusion table? What does it help us understand about a model's performance?\n",
        "**When testing a model's performance in classification, we can use a confusion table to cross-tabulate the predicted and actual values, which shows how many true positives, false negatives, false positives, and true negatives the model is giving us based on the data we feed it.**\n",
        "3. What does the SSE quantify about a particular model?\n",
        "**For a linear regression model, the Sum of Squared Error can tell us how well the model fits the data, or how well it's performing based on data we have fed it.**\n",
        "4. What are overfitting and underfitting?\n",
        "**Underfitting is when you feed the model too little data, and thus it is unable to recognize patterns and use them to make predictions with new data. Overfitting, on the other hand, is when you feed the model too much data, and thus it is too complex and unable to perform well when given new data.**\n",
        "5. Why does splitting the data into training and testing sets, and choosing $k$ by evaluating accuracy or SSE on the test set, improve model performance?\n",
        "**We want to know how well a model will perform when given new data. Therefore, by saving some data as a testing set, we can train it based off our training set, then ask it to perform on our test set, and evaluate its performance based on how well it predicts the test set's data.**\n",
        "6. With classification, we can report a class label as a prediction or a probability distribution over class labels. Please explain the strengths and weaknesses of each approach.\n",
        "**Using a single class label is very simple, both in terms of clarity of understanding and comuptational efficiency. However, it is limited in showing the confidence of the model and misinterpretation. A probability distribution, on the other hand, allows us to make more involved decisions using the model's uncertainty, although it may be harder to get a read/intuitive understanding of.**"
      ]
    },
    {
      "cell_type": "markdown",
      "id": "194455fa",
      "metadata": {
        "id": "194455fa"
      },
      "source": [
        "**Q1.** This question is a case study for $k$ nearest neighbor regression, using the `USA_cars_datasets.csv` data.\n",
        "\n",
        "The target variable `y` is `price` and the features are `year` and `mileage`.\n",
        "\n",
        "1. Load the `./data/USA_cars_datasets.csv`. Keep the following variables and drop the rest: `price`, `year`, `mileage`. Are there any `NA`'s to handle? Look at the head and dimensions of the data.\n",
        "2. Maxmin normalize `year` and `mileage`.\n",
        "3. Split the sample into ~80% for training and ~20% for evaluation.\n",
        "4. Use the $k$NN algorithm and the training data to predict `price` using `year` and `mileage` for the test set for $k=3,10,25,50,100,300$. For each value of $k$, compute the mean squared error and print a scatterplot showing the test value plotted against the predicted value. What patterns do you notice as you increase $k$?\n",
        "5. Determine the optimal $k$ for these data.\n",
        "6. Describe what happened in the plots of predicted versus actual prices as $k$ varied, taking your answer into part 6 into account. (Hint: Use the words \"underfitting\" and \"overfitting\".)"
      ]
    },
    {
      "cell_type": "markdown",
      "id": "287b8586",
      "metadata": {
        "id": "287b8586"
      },
      "source": [
        "**Q2.** This is a case study on $k$ nearest neighbor classification, using the `animals.csv` data.\n",
        "\n",
        "The data consist of a label, `class`, taking integer values 1 to 7, the name of the species, `animal`, and 16 characteristics of the animal, including `hair`, `feathers`, `milk`, `eggs`, `airborne`, and so on.\n",
        "\n",
        "1. Load the data. For each of the seven class labels, print the values in the class and get a sense of what is included in that group. Perform some other EDA: How big are the classes? How much variation is there in each of the features/covariates? Which variables do you think will best predict which class?\n",
        "2. Split the data 50/50 into training and test/validation sets. (The smaller the data are, the more equal the split should be, in my experience: Otherwise, all of the members of one class end up in the training or test data, and the model falls apart.)\n",
        "3. Using all of the variables, build a $k$-NN classifier. Explain how you select $k$.\n",
        "4. Print a confusion table for the optimal model, comparing predicted and actual class label on the test set. How accurate it is? Can you interpret why mistakes are made across groups?\n",
        "5. Use only `milk`, `aquatic`, and `airborne` to train a new $k$-NN classifier. Print your confusion table. Mine does not predict all of the classes, only a subset of them. To see the underlying probabilities, use `model.predict_proba(X_test.values)` to predict probabilities rather than labels for your `X_test` test data for your fitted `model`. Are all of the classes represented? Explain your results."
      ]
    },
    {
      "cell_type": "markdown",
      "id": "c008c35c",
      "metadata": {
        "id": "c008c35c"
      },
      "source": [
        "**Q3.** This question is a case study for $k$ nearest neighbor regression, using the `cars_env.csv` data.\n",
        "\n",
        "The variables that go into the model are one more dimension to think about: We can use the train-test split approach to pick the variables that go into the model, not just the number of neighbors.\n",
        "\n",
        "1. Load the data. We're going to use `footprint`, `baseline mpg`, `baseline price`, and `baseline sales`. Prepare some EDA results for these variables: describe tables, histograms/kernel density plots, scatterplots, etc. I renamed these variables to `footprint`, `mpg`, `price`, and `sales` to save time.\n",
        "2. Maxmin normalize `footprint`, `mpg`, and `price`. These will be our features/covariates $X$. Our target/dependent/outcome variable $y$ will be sales. Does it make sense to normalize $y$?\n",
        "3. Make a 30% train-test split of the data into 30% test/validation data and 70% training data.\n",
        "4. Using all three covariates --- `footprint`, `mpg`, and `price` --- what's the best $k$ to use? What SSE is achieved on the test set? To answer these questions, evalute the sum of squared error on the test set for a reasonable range of values of $k$ (perhaps 2 to 150), and find the $k$ with the lowest SSE.\n",
        "5. Do part 4 again, for each pair of variables: `footprint` and `mpg`, `footprint` and `price`, `mpg` and `price`.\n",
        "6. Which set of variables from parts 4 and 5 does the best, in terms of minimizing SSE at the optimal choice of neighbors? Explain."
      ]
    },
    {
      "cell_type": "markdown",
      "id": "6a0ff5e3",
      "metadata": {
        "id": "6a0ff5e3"
      },
      "source": [
        "**Q4.** This is a case study on $k$ nearest neighbor classification, using the `land_mines.csv` data.\n",
        "\n",
        "The data consists of a label, `mine_type`, taking integer values 1 to 5, and three properties of the mine, `voltage`, `height` and `soil`. We want to predict the kind of mine from data about it. Imagine working for the DOD or a humanitarian aid agency, trying to help people remove land mines more safely.\n",
        "\n",
        "1. Load the data. Perform some EDA, summarizing the target label and the features.\n",
        "2. Split the sample 50/50 into training and test/validation sets. (The smaller the data are, the more equal the split should be, in my experience: Otherwise, all of the members of one class end up in the training or test data, and the model falls apart.)\n",
        "3. Build a $k$-NN classifier. Explain how you select $k$.\n",
        "4. Print a confusion table for the optimal model, comparing predicted and actual class label on the test set. How accurate is it? Where is performance more or less accurate?\n",
        "5. Notice that you can have a lot of accurate predictions for a given type of mine, but still make a lot of mistakes. Please explain how you'd advise someone to actually use this predictive model in practice, given the errors that it tends to make."
      ]
    },
    {
      "cell_type": "code",
      "source": [
        "import numpy as np\n",
        "import pandas as pd\n",
        "import seaborn as sns\n",
        "import matplotlib.pyplot as plt\n",
        "from sklearn.model_selection import train_test_split\n",
        "from sklearn.neighbors import KNeighborsClassifier\n",
        "from sklearn.metrics import confusion_matrix\n",
        "from sklearn.preprocessing import MinMaxScaler\n",
        "from sklearn.metrics import accuracy_score\n",
        "from sklearn.neighbors import KNeighborsRegressor\n",
        "\n",
        "#1\n",
        "df = pd.read_csv('/content/knn/data/land_mines.csv')\n",
        "print(df.describe())\n",
        "print(df['mine_type'].value_counts())\n",
        "print(df[['voltage', 'height', 'soil']].corr())\n",
        "\n",
        "#2\n",
        "# Create target variable vector and feature matrix\n",
        "y = df['mine_type']\n",
        "X = df.loc[:, ['voltage', 'height', 'soil']]\n",
        "\n",
        "# Normalize the feature matrix using MinMaxScaler\n",
        "scaler = MinMaxScaler()\n",
        "X = scaler.fit_transform(X)  # Normalize features to the 0-1 range\n",
        "\n",
        "# Split the dataset 50/50 into train and test sets\n",
        "X_train, X_test, y_train, y_test = train_test_split(X, y,\n",
        "                                                    test_size=0.5,  # 50/50 split\n",
        "                                                    random_state=65)  # For reproducibility\n",
        "\n",
        "#3\n",
        "k_bar = 50  # Number of k's to try\n",
        "SSE = []  # To store SSE for test set\n",
        "SSE_on_train = []  # To store SSE for training set\n",
        "\n",
        "for k in range(k_bar):\n",
        "    model = KNeighborsRegressor(n_neighbors=k+1)  # Create the k-NN model with current k\n",
        "    fitted_model = model.fit(X_train, y_train)  # Train the model on the training data\n",
        "    y_hat_test = fitted_model.predict(X_test)  # Predict values for the test set\n",
        "    SSE.append(np.sum((y_test - y_hat_test)**2))  # Calculate and store SSE for the test set\n",
        "    y_hat_train = fitted_model.predict(X_train)  # Predict values for the training set\n",
        "    SSE_on_train.append(np.sum((y_train - y_hat_train)**2))  # Calculate and store SSE for training set\n",
        "\n",
        "# Find the minimum SSE on the test set\n",
        "SSE_min = np.min(SSE)  # Get the lowest SSE value\n",
        "min_index = np.where(SSE == SSE_min)  # Get the index of the minimum SSE\n",
        "k_star = min_index[0] + 1  # Get the optimal k (index + 1 as k starts from 1, not 0)\n",
        "print(f\"\\nThe optimal value of k is: {k_star[0]}, which we found by calculating the minimum SSE from our training data to our test data.\")\n",
        "\n",
        "#4\n",
        "final_model = KNeighborsClassifier(n_neighbors=k_star[0])  # Train the model with the best k\n",
        "final_model.fit(X_train, y_train)\n",
        "\n",
        "# Predict on the test set\n",
        "y_pred = final_model.predict(X_test)\n",
        "\n",
        "# Confusion matrix\n",
        "cm = confusion_matrix(y_test, y_pred)\n",
        "\n",
        "# Accuracy of the model\n",
        "accuracy = accuracy_score(y_test, y_pred)\n",
        "\n",
        "# Print the confusion matrix and accuracy\n",
        "print(\"\\nConfusion Matrix:\")\n",
        "print(cm)\n",
        "print(f\"Accuracy: {accuracy:.2f}\\nThe performance is not very accuarate--definitely not as accurate as we would like for a landmine checker. \")\n",
        "print('It looks like the model is better at predicting type one and type 2 landmines, and not good at predicting the others.')\n",
        "\n",
        "#5\n",
        "print('If this predictive model were actually used in practice, which it should not, I would tell them Type 2 mines are the only ones that can be reasonably predicted by this model.')"
      ],
      "metadata": {
        "id": "L-8SkkhvjfLJ",
        "outputId": "88828fef-81d0-43bc-f193-ed6b3a50f8b9",
        "colab": {
          "base_uri": "https://localhost:8080/"
        }
      },
      "id": "L-8SkkhvjfLJ",
      "execution_count": 23,
      "outputs": [
        {
          "output_type": "stream",
          "name": "stdout",
          "text": [
            "          voltage      height        soil   mine_type\n",
            "count  338.000000  338.000000  338.000000  338.000000\n",
            "mean     0.430634    0.508876    0.503550    2.952663\n",
            "std      0.195819    0.306043    0.344244    1.419703\n",
            "min      0.197734    0.000000    0.000000    1.000000\n",
            "25%      0.309737    0.272727    0.200000    2.000000\n",
            "50%      0.359516    0.545455    0.600000    3.000000\n",
            "75%      0.482628    0.727273    0.800000    4.000000\n",
            "max      0.999999    1.000000    1.000000    5.000000\n",
            "mine_type\n",
            "1    71\n",
            "2    70\n",
            "3    66\n",
            "4    66\n",
            "5    65\n",
            "Name: count, dtype: int64\n",
            "          voltage    height      soil\n",
            "voltage  1.000000 -0.377523  0.070673\n",
            "height  -0.377523  1.000000 -0.006957\n",
            "soil     0.070673 -0.006957  1.000000\n",
            "\n",
            "The optimal value of k is: 11, which we found by calculating the minimum SSE from our training data to our test data.\n",
            "\n",
            "Confusion Matrix:\n",
            "[[26  0  3  2  3]\n",
            " [ 0 30  6  0  2]\n",
            " [ 3  2 10  2 13]\n",
            " [14  0 13  4  7]\n",
            " [11  0 11  2  5]]\n",
            "Accuracy: 0.44\n",
            "The performance is not very accuarate--definitely not as accurate as we would like for a landmine checker. \n",
            "It looks like the model is better at predicting type one and type 2 landmines, and not good at predicting the others.\n",
            "If this predictive model were actually used in practice, which it should not, I would tell them Type 2 mines are the only ones that can be reasonably predicted by this model.\n"
          ]
        }
      ]
    },
    {
      "cell_type": "markdown",
      "id": "010b57f7-bf4f-4494-b54c-49c4f3ae3ab9",
      "metadata": {
        "id": "010b57f7-bf4f-4494-b54c-49c4f3ae3ab9"
      },
      "source": [
        "**Q5.** This question is a case study for $k$ nearest neighbor regression, using the `heart_failure_clinical_records_dataset.csv` data.\n",
        "\n",
        "The data for the question include:\n",
        "\n",
        "- age: age of the patient (years)\n",
        "- anaemia: decrease of red blood cells or hemoglobin (boolean)\n",
        "- high blood pressure: if the patient has hypertension (boolean)\n",
        "- creatinine phosphokinase (CPK): level of the CPK enzyme in the blood (mcg/L)\n",
        "- diabetes: if the patient has diabetes (boolean)\n",
        "- ejection fraction: percentage of blood leaving the heart at each contraction (percentage)\n",
        "- platelets: platelets in the blood (kiloplatelets/mL)\n",
        "- sex: woman or man (binary)\n",
        "- serum creatinine: level of serum creatinine in the blood (mg/dL)\n",
        "- serum sodium: level of serum sodium in the blood (mEq/L)\n",
        "- smoking: if the patient smokes or not (boolean)\n",
        "- time: follow-up period (days)\n",
        "- death event: if the patient deceased during the follow-up period (boolean)\n",
        "\n",
        "1. Load the `./data/heart_failure_clinical_records_dataset.csv`. Are there any `NA`'s to handle? use `.drop()` to remove `time` from the dataframe.\n",
        "2. Make a correlation matrix. What variables are strongly associated with a death event?\n",
        "3. For the dummy variables `anaemia`, `diabetes`, `high_blood_pressure`, `sex`, and `smoking`, compute a summary table of `DEATH_EVENT` grouped by the variable. For which variables does a higher proportion of the population die when the variable takes the value 1 rather than 0?\n",
        "4. On the basis of your answers from 2 and 3, build a matrix $X$ of the variables you think are most predictive of a death, and a variable $y$ equal to `DEATH_EVENT`.\n",
        "5. Maxmin normalize all of the variables in `X`.\n",
        "6. Split the sample into ~80% for training and ~20% for evaluation. (Try to use the same train/test split for the whole question, so that you're comparing apples to apples in the questions below.).\n",
        "7. Determine the optimal number of neighbors for a $k$NN regression for the variables you selected.\n",
        "8. OK, do steps 5 through 7 again, but use all of the variables (except `time`). Which model has a lower Sum of Squared Error? Which would you prefer to use in practice, if you had to predict `DEATH_EVENT`s? If you play with the selection of variables, how much does the SSE change for your fitted model on the test data? Are more variables always better? Explain your findings."
      ]
    },
    {
      "cell_type": "markdown",
      "id": "8d193de6",
      "metadata": {
        "vscode": {
          "languageId": "plaintext"
        },
        "id": "8d193de6"
      },
      "source": [
        "**Q6.** This is a case study on $k$ nearest neighbor regression and imputation, using the `airbnb_hw.csv` data.\n",
        "\n",
        "There are 30,478 observations, but only 22,155 ratings. We're going to build a kNN regressor to impute missing values. This is a common task, and illustrates one way you can use kNN in the future even when you have more advanced models available.\n",
        "\n",
        "1. Load the `airbnb_hw.csv` data with Pandas. We're only going to use `Review Scores Rating`, `Price`, and `Beds`, so use `.loc` to reduce the dataframe to those variables.\n",
        "2. Set use `.isnull()` to select the subset of the dataframe with missing review values. Set those aside in a different dataframe. We'll make predictions about them later.\n",
        "3. Use `df = df.dropna(axis = 0, how = 'any')` to eliminate any observations with missing values/NA's from the dataframe.\n",
        "4. For the complete cases, create a $k$-NN model that uses the variables `Price` and `Beds` to predict `Review Scores Rating`. How do you choose $k$? (Hint: Train/test split, iterate over reasonable values of $k$ and find a value that minimizes SSE on the test split using predictions from the training set.)\n",
        "5. Predict the missing ratings.\n",
        "6. Do a kernel density plot of the training ratings and the predicted missing ratings. Do they look similar or not? Explain why."
      ]
    }
  ],
  "metadata": {
    "kernelspec": {
      "display_name": "Python 3 (ipykernel)",
      "language": "python",
      "name": "python3"
    },
    "language_info": {
      "codemirror_mode": {
        "name": "ipython",
        "version": 3
      },
      "file_extension": ".py",
      "mimetype": "text/x-python",
      "name": "python",
      "nbconvert_exporter": "python",
      "pygments_lexer": "ipython3",
      "version": "3.10.4"
    },
    "colab": {
      "provenance": []
    }
  },
  "nbformat": 4,
  "nbformat_minor": 5
}